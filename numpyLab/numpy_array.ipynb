{
 "cells": [
  {
   "cell_type": "markdown",
   "metadata": {},
   "source": [
    "### Step 1: Check numply library"
   ]
  },
  {
   "cell_type": "code",
   "execution_count": null,
   "metadata": {},
   "outputs": [],
   "source": [
    "pip show numpy"
   ]
  },
  {
   "cell_type": "markdown",
   "metadata": {},
   "source": [
    "### Step 2: install numpy"
   ]
  },
  {
   "cell_type": "code",
   "execution_count": null,
   "metadata": {},
   "outputs": [],
   "source": [
    "pip install numpy"
   ]
  },
  {
   "cell_type": "markdown",
   "metadata": {},
   "source": [
    "### Step 3: Create Array"
   ]
  },
  {
   "cell_type": "code",
   "execution_count": 9,
   "metadata": {},
   "outputs": [
    {
     "name": "stdout",
     "output_type": "stream",
     "text": [
      "10\n",
      "[1 2 3]\n",
      "[[1]\n",
      " [2]\n",
      " [3]]\n",
      "[[10 11 12]\n",
      " [13 14 15]]\n"
     ]
    }
   ],
   "source": [
    "import numpy as np\n",
    "\n",
    "# Scalar Array\n",
    "a = np.array(10)\n",
    "print(a)\n",
    "\n",
    "# Vector Array\n",
    "row = np.array([1, 2, 3]) # 1 row and 3 columns\n",
    "col = np.array([[1],[2],[3]]) # 3 rows and 1 column\n",
    "print(row)\n",
    "print(col)\n",
    "\n",
    "# Matrix Array\n",
    "mat = np.array([[10, 11, 12],[13, 14, 15]]) # 2 rows and 3 columns\n",
    "print(mat)"
   ]
  },
  {
   "cell_type": "markdown",
   "metadata": {},
   "source": [
    "### Step 4: Create random number"
   ]
  },
  {
   "cell_type": "code",
   "execution_count": 13,
   "metadata": {},
   "outputs": [
    {
     "name": "stdout",
     "output_type": "stream",
     "text": [
      "[0.20578864 0.37067101 0.81207636 0.59775123]\n",
      "[[0.48800067 0.67387717 0.3211565 ]\n",
      " [0.50740654 0.50696702 0.97032606]]\n",
      "[8 9 2 1 9 3]\n",
      "[[ 3 10  0]\n",
      " [ 4  2  7]]\n"
     ]
    }
   ],
   "source": [
    "# Random 0-1\n",
    "r1 = np.random.random(4) # random vector 4 value\n",
    "r2 = np.random.random((2, 3)) # random maxtrix 2x3\n",
    "print(r1)\n",
    "print(r2)\n",
    "\n",
    "# Random positive integer\n",
    "r3 = np.random.randint(0, 11, 6) # random 3 value from 0-10\n",
    "r4 = np.random.randint(0, 11, [2, 3]) # random maxtrix 2x3 from 0-10\n",
    "print(r3)\n",
    "print(r4)"
   ]
  },
  {
   "cell_type": "markdown",
   "metadata": {},
   "source": [
    "### Step 5: read index array"
   ]
  },
  {
   "cell_type": "code",
   "execution_count": 20,
   "metadata": {},
   "outputs": [
    {
     "name": "stdout",
     "output_type": "stream",
     "text": [
      "4\n",
      "10\n",
      "10\n",
      "[3 4 5 6 7]\n",
      "[1 2 3 4]\n",
      "[ 5  6  7  8  9 10]\n"
     ]
    }
   ],
   "source": [
    "vrow = np.array([1,2,3,4,5,6,7,8,9,10])\n",
    "\n",
    "print(vrow[3]) # read from front\n",
    "print(vrow[-1]) # read from back\n",
    "print(vrow[-1]) # read from back\n",
    "print(vrow[2:7]) # read from 2 to 6\n",
    "print(vrow[:4]) # read from 0 to 3\n",
    "print(vrow[4:]) # read from 5 to end"
   ]
  },
  {
   "cell_type": "markdown",
   "metadata": {},
   "source": [
    "### Step 6: ການຫາຄ່າສະຖິຕິຂອງຂໍ້ມູນດ້ວຍ numpy"
   ]
  },
  {
   "cell_type": "code",
   "execution_count": 29,
   "metadata": {},
   "outputs": [
    {
     "name": "stdout",
     "output_type": "stream",
     "text": [
      "[[ 1  2  3  4]\n",
      " [ 5  6  7  8]\n",
      " [ 9 10 11 12]]\n",
      "Max:  12\n",
      "Min:  1\n",
      "Mean:  6.5\n",
      "Median:  6.5\n",
      "Std:  3.452052529534663\n",
      "Var:  11.916666666666666\n"
     ]
    }
   ],
   "source": [
    "stat = np.array([[1,2,3,4],[5,6,7,8],[9,10,11,12]])\n",
    "print(stat)\n",
    "\n",
    "# Max number\n",
    "print(\"Max: \", np.max(stat))\n",
    "# min number\n",
    "print(\"Min: \", np.min(stat))\n",
    "# Average number\n",
    "print(\"Mean: \", np.mean(stat))\n",
    "# Median number\n",
    "print(\"Median: \", np.median(stat))\n",
    "# Std number (ຄ່າຜັນປ່ຽນມາຕະຖານ)\n",
    "print(\"Std: \", np.std(stat))\n",
    "# var number (ຄ່າຄວາມປ່ຽນແປງ)\n",
    "print(\"Var: \", np.var(stat))"
   ]
  }
 ],
 "metadata": {
  "kernelspec": {
   "display_name": "Python 3.11.4 ('env': venv)",
   "language": "python",
   "name": "python3"
  },
  "language_info": {
   "codemirror_mode": {
    "name": "ipython",
    "version": 3
   },
   "file_extension": ".py",
   "mimetype": "text/x-python",
   "name": "python",
   "nbconvert_exporter": "python",
   "pygments_lexer": "ipython3",
   "version": "3.11.4"
  },
  "orig_nbformat": 4,
  "vscode": {
   "interpreter": {
    "hash": "02dee07cdb56daec3440748b1a506132d935f1d7db44f1e8dcaa964da84f6ed7"
   }
  }
 },
 "nbformat": 4,
 "nbformat_minor": 2
}
