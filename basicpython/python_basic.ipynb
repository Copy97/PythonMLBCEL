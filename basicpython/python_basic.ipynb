{
 "cells": [
  {
   "cell_type": "markdown",
   "metadata": {},
   "source": [
    "### 1. Variable in Python"
   ]
  },
  {
   "cell_type": "code",
   "execution_count": 48,
   "metadata": {},
   "outputs": [
    {
     "name": "stdout",
     "output_type": "stream",
     "text": [
      "basicpython\n"
     ]
    },
    {
     "data": {
      "text/plain": [
       "str"
      ]
     },
     "execution_count": 48,
     "metadata": {},
     "output_type": "execute_result"
    }
   ],
   "source": [
    "space_name = 'basicpython'\n",
    "print(space_name)\n",
    "# check type of variable\n",
    "type(space_name)"
   ]
  },
  {
   "cell_type": "code",
   "execution_count": 49,
   "metadata": {},
   "outputs": [
    {
     "name": "stdout",
     "output_type": "stream",
     "text": [
      "10\n",
      "20.5\n",
      "<class 'int'>\n",
      "<class 'float'>\n"
     ]
    }
   ],
   "source": [
    "# example variable\n",
    "a = 10\n",
    "b = 20.50\n",
    "print(a)\n",
    "print(b)\n",
    "# check type of variable\n",
    "print(type(a))\n",
    "print(type(b))"
   ]
  },
  {
   "cell_type": "markdown",
   "metadata": {},
   "source": [
    "### 2. Condition If...else"
   ]
  },
  {
   "cell_type": "code",
   "execution_count": 50,
   "metadata": {},
   "outputs": [
    {
     "name": "stdout",
     "output_type": "stream",
     "text": [
      "n is less than 0\n"
     ]
    }
   ],
   "source": [
    "# Condition if...else\n",
    "n = -1\n",
    "if n > 0:\n",
    "    print(\"n is larger than 0\")\n",
    "elif n == 0:\n",
    "    print(\"n is equal to 0\")\n",
    "else:\n",
    "    print(\"n is less than 0\")"
   ]
  },
  {
   "cell_type": "markdown",
   "metadata": {},
   "source": [
    "### 3. Loops"
   ]
  },
  {
   "cell_type": "code",
   "execution_count": 51,
   "metadata": {},
   "outputs": [
    {
     "name": "stdout",
     "output_type": "stream",
     "text": [
      "1\n",
      "2\n",
      "3\n",
      "4\n",
      "5\n",
      "6\n",
      "7\n",
      "8\n",
      "9\n",
      "10\n"
     ]
    }
   ],
   "source": [
    "# for loop\n",
    "\n",
    "for i in range(1, 11):\n",
    "    print(i)"
   ]
  },
  {
   "cell_type": "code",
   "execution_count": 52,
   "metadata": {},
   "outputs": [
    {
     "name": "stdout",
     "output_type": "stream",
     "text": [
      "Round 1\n",
      "Round 2\n",
      "Round 3\n",
      "Round 4\n",
      "Round 5\n"
     ]
    }
   ],
   "source": [
    "# while\n",
    "round = 1\n",
    "while round <= 5:\n",
    "    print(\"Round\", round)\n",
    "    round += 1"
   ]
  },
  {
   "cell_type": "markdown",
   "metadata": {},
   "source": [
    "### 4. List Variable"
   ]
  },
  {
   "cell_type": "code",
   "execution_count": 53,
   "metadata": {},
   "outputs": [
    {
     "name": "stdout",
     "output_type": "stream",
     "text": [
      "[1, 2, 3, 4, 5]\n",
      "5\n",
      "3\n"
     ]
    }
   ],
   "source": [
    "numbers = [1, 2, 3 ,4 ,5]\n",
    "print(numbers)\n",
    "\n",
    "#print by index\n",
    "print(numbers[4]) # read from front\n",
    "print(numbers[2]) # read from back"
   ]
  },
  {
   "cell_type": "code",
   "execution_count": 54,
   "metadata": {},
   "outputs": [
    {
     "name": "stdout",
     "output_type": "stream",
     "text": [
      "2\n",
      "4\n"
     ]
    }
   ],
   "source": [
    "# for loop in list\n",
    "for n in numbers:\n",
    "    if n % 2 == 0:\n",
    "        print(n)"
   ]
  },
  {
   "cell_type": "markdown",
   "metadata": {},
   "source": [
    "### 5. Dictionary variable"
   ]
  },
  {
   "cell_type": "code",
   "execution_count": 55,
   "metadata": {},
   "outputs": [
    {
     "name": "stdout",
     "output_type": "stream",
     "text": [
      "100\n",
      "john\n",
      "jane\n",
      "jeremy\n",
      "100\n",
      "90\n",
      "95\n",
      "john 100\n",
      "jane 90\n",
      "jeremy 95\n"
     ]
    }
   ],
   "source": [
    "scores = {\n",
    "    'john': 100, \n",
    "    'jane': 90, \n",
    "    'jeremy': 95\n",
    "    }\n",
    "print(scores['john'])\n",
    "\n",
    "#loop through dictionary\n",
    "for key in scores.keys():\n",
    "    print(key)\n",
    "for val in scores.values():\n",
    "    print(val)\n",
    "for key,val in scores.items():\n",
    "    print(key, val)"
   ]
  },
  {
   "cell_type": "markdown",
   "metadata": {},
   "source": [
    "### 6. Set variable"
   ]
  },
  {
   "cell_type": "code",
   "execution_count": 56,
   "metadata": {},
   "outputs": [
    {
     "name": "stdout",
     "output_type": "stream",
     "text": [
      "{2, 3, 6, 7, 22, 77, 15}\n",
      "2\n",
      "3\n",
      "6\n",
      "7\n",
      "22\n",
      "77\n",
      "15\n"
     ]
    }
   ],
   "source": [
    "number = { 77, 2, 6, 7, 15, 22, 3, 15, 6}\n",
    "print(number)\n",
    "\n",
    "# loop for\n",
    "for n in number:\n",
    "    print(n)"
   ]
  },
  {
   "cell_type": "markdown",
   "metadata": {},
   "source": [
    "### 7. Function"
   ]
  },
  {
   "cell_type": "code",
   "execution_count": 57,
   "metadata": {},
   "outputs": [
    {
     "name": "stdout",
     "output_type": "stream",
     "text": [
      "Welcome to Python\n"
     ]
    }
   ],
   "source": [
    "# function without parameter\n",
    "def welcome():\n",
    "    print(\"Welcome to Python\")\n",
    "\n",
    "# call function\n",
    "welcome()"
   ]
  },
  {
   "cell_type": "code",
   "execution_count": 58,
   "metadata": {},
   "outputs": [
    {
     "name": "stdout",
     "output_type": "stream",
     "text": [
      "0\n"
     ]
    }
   ],
   "source": [
    "# function with parameter\n",
    "def cal_area(width = 0, height = 0): # default parameter\n",
    "    total = width * height\n",
    "    return total\n",
    "\n",
    "# call function\n",
    "print(cal_area(5, 0))"
   ]
  },
  {
   "cell_type": "markdown",
   "metadata": {},
   "source": [
    "### 8. Call Module"
   ]
  },
  {
   "cell_type": "code",
   "execution_count": 1,
   "metadata": {},
   "outputs": [
    {
     "name": "stdout",
     "output_type": "stream",
     "text": [
      "50\n",
      "15\n"
     ]
    }
   ],
   "source": [
    "# Call function from module\n",
    "from module import * \n",
    "import module2 as a\n",
    "\n",
    "print(cal_area3(5,10))\n",
    "print(a.plus(5,10))"
   ]
  },
  {
   "cell_type": "markdown",
   "metadata": {},
   "source": [
    "### 9. Use another Library"
   ]
  },
  {
   "cell_type": "code",
   "execution_count": 2,
   "metadata": {},
   "outputs": [
    {
     "name": "stdout",
     "output_type": "stream",
     "text": [
      "QRCode Generator Program\n",
      "Please type 'quit' to exit\n",
      "Invalid product code\n",
      "Invalid product code\n",
      "Thank you\n"
     ]
    }
   ],
   "source": [
    "import qrcode\n",
    "\n",
    "print(\"QRCode Generator Program\")\n",
    "print(\"Please type 'quit' to exit\")\n",
    "\n",
    "while True:\n",
    "    product_data = input(\"Please input your product code: \")\n",
    "\n",
    "    if product_data == 'quit':\n",
    "        print(\"Thank you\")\n",
    "        break\n",
    "    if len(product_data) == 5:\n",
    "        # Create qr code\n",
    "        img = qrcode.make(product_data)\n",
    "        type(img)\n",
    "        img.save(f\"product_qrcode/{product_data}.png\")\n",
    "    else:\n",
    "        print(\"Invalid product code\")\n",
    "        continue"
   ]
  }
 ],
 "metadata": {
  "kernelspec": {
   "display_name": "Python 3.11.4 ('env': venv)",
   "language": "python",
   "name": "python3"
  },
  "language_info": {
   "codemirror_mode": {
    "name": "ipython",
    "version": 3
   },
   "file_extension": ".py",
   "mimetype": "text/x-python",
   "name": "python",
   "nbconvert_exporter": "python",
   "pygments_lexer": "ipython3",
   "version": "3.11.4"
  },
  "orig_nbformat": 4,
  "vscode": {
   "interpreter": {
    "hash": "02dee07cdb56daec3440748b1a506132d935f1d7db44f1e8dcaa964da84f6ed7"
   }
  }
 },
 "nbformat": 4,
 "nbformat_minor": 2
}
