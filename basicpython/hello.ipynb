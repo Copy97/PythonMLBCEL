{
 "cells": [],
 "metadata": {
  "kernelspec": {
   "display_name": "Python 3.11.4 ('env': venv)",
   "language": "python",
   "name": "python3"
  },
  "language_info": {
   "codemirror_mode": {
    "name": "ipython",
    "version": 3
   },
   "file_extension": ".py",
   "mimetype": "text/x-python",
   "name": "python",
   "nbconvert_exporter": "python",
   "pygments_lexer": "ipython3",
   "version": "3.11.4"
  },
  "orig_nbformat": 4,
  "vscode": {
   "interpreter": {
    "hash": "02dee07cdb56daec3440748b1a506132d935f1d7db44f1e8dcaa964da84f6ed7"
   }
  }
 },
 "nbformat": 4,
 "nbformat_minor": 2
}
