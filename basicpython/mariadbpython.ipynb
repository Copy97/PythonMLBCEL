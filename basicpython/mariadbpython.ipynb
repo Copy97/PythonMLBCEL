{
 "cells": [
  {
   "cell_type": "markdown",
   "metadata": {},
   "source": [
    "### Step 1: Importing the required libraries"
   ]
  },
  {
   "cell_type": "code",
   "execution_count": 2,
   "metadata": {},
   "outputs": [],
   "source": [
    "#import pymysql\n",
    "import pymysql\n",
    "\n",
    "#import connectmariadb\n",
    "from module import connectmariadb as con\n"
   ]
  },
  {
   "cell_type": "markdown",
   "metadata": {},
   "source": [
    "### Step 2: Create table "
   ]
  },
  {
   "cell_type": "code",
   "execution_count": 3,
   "metadata": {},
   "outputs": [
    {
     "name": "stdout",
     "output_type": "stream",
     "text": [
      "Table created successfully\n"
     ]
    }
   ],
   "source": [
    "def create_table():\n",
    "    connection = con.connectdb()\n",
    "    cursor = connection.cursor()\n",
    "\n",
    "    #Create table\n",
    "    sql = \"\"\"\n",
    "          CREATE TABLE IF NOT EXISTS person (\n",
    "            id INT AUTO_INCREMENT PRIMARY KEY,\n",
    "            name VARCHAR(64),\n",
    "            address VARCHAR(255)\n",
    "          )\n",
    "    \"\"\"\n",
    "    try:\n",
    "        cursor.execute(sql)\n",
    "        print(\"Table created successfully\")\n",
    "    except pymysql.error:\n",
    "        print(pymysql.error)\n",
    "\n",
    "create_table()"
   ]
  },
  {
   "cell_type": "markdown",
   "metadata": {},
   "source": [
    "### Step 3: Insert Data to Table"
   ]
  },
  {
   "cell_type": "code",
   "execution_count": 6,
   "metadata": {},
   "outputs": [
    {
     "name": "stdout",
     "output_type": "stream",
     "text": [
      "Insert person successfully\n"
     ]
    }
   ],
   "source": [
    "def add_persion(name = \"\", address=\"\"):\n",
    "    connection = con.connectdb()\n",
    "    cursor = connection.cursor()\n",
    "\n",
    "    #Insert data\n",
    "    sql = f\"INSERT INTO person(name, address) VALUES('{name}','{address}') \"\n",
    "    try:\n",
    "        cursor.execute(sql)\n",
    "        connection.commit()\n",
    "        print(\"Insert person successfully\")\n",
    "    except pymysql.error:\n",
    "        print(pymysql.error)\n",
    "add_persion(\"sonevilay\",\"vientiane\")"
   ]
  },
  {
   "cell_type": "markdown",
   "metadata": {},
   "source": [
    "### Step 4: Read Data"
   ]
  },
  {
   "cell_type": "code",
   "execution_count": 5,
   "metadata": {},
   "outputs": [
    {
     "name": "stdout",
     "output_type": "stream",
     "text": [
      "ID=  1\n",
      "Name=  sonevilay1\n",
      "Address=  vientiane\n",
      "-------------------\n"
     ]
    }
   ],
   "source": [
    "def read_persion():\n",
    "    connection = con.connectdb()\n",
    "    cursor = connection.cursor()\n",
    "\n",
    "    #Insert data\n",
    "    sql = f\"SELECT * FROM person ORDER BY id DESC\"\n",
    "    try:\n",
    "        cursor.execute(sql)\n",
    "        connection.commit()\n",
    "        # loop read data\n",
    "        for row in cursor:\n",
    "            print(\"ID= \", row['id']);\n",
    "            print(\"Name= \", row['name']);\n",
    "            print(\"Address= \", row['address']);\n",
    "            print(\"-------------------\")\n",
    "    except pymysql.error:\n",
    "        print(pymysql.error)\n",
    "read_persion()"
   ]
  }
 ],
 "metadata": {
  "kernelspec": {
   "display_name": "Python 3.11.4 ('env': venv)",
   "language": "python",
   "name": "python3"
  },
  "language_info": {
   "codemirror_mode": {
    "name": "ipython",
    "version": 3
   },
   "file_extension": ".py",
   "mimetype": "text/x-python",
   "name": "python",
   "nbconvert_exporter": "python",
   "pygments_lexer": "ipython3",
   "version": "3.11.4"
  },
  "orig_nbformat": 4,
  "vscode": {
   "interpreter": {
    "hash": "02dee07cdb56daec3440748b1a506132d935f1d7db44f1e8dcaa964da84f6ed7"
   }
  }
 },
 "nbformat": 4,
 "nbformat_minor": 2
}
